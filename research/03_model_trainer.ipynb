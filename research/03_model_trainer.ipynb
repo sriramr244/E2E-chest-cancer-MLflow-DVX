{
 "cells": [
  {
   "cell_type": "code",
   "execution_count": 1,
   "metadata": {},
   "outputs": [],
   "source": [
    "import os\n",
    "os.chdir(\"../\")"
   ]
  },
  {
   "cell_type": "code",
   "execution_count": 2,
   "metadata": {},
   "outputs": [
    {
     "data": {
      "text/plain": [
       "'/Users/sriram.ranganathan99/ccc/E2E-sentence-similarity-MLflow-DVX'"
      ]
     },
     "execution_count": 2,
     "metadata": {},
     "output_type": "execute_result"
    }
   ],
   "source": [
    "%pwd"
   ]
  },
  {
   "cell_type": "code",
   "execution_count": 13,
   "metadata": {},
   "outputs": [],
   "source": [
    "from dataclasses import dataclass\n",
    "from pathlib import Path\n",
    "@dataclass(frozen=True)\n",
    "class TrainingConfig:\n",
    "    base_model: Path\n",
    "    updated_model_path: Path\n",
    "    params_epochs: int\n",
    "    params_batch_size: int\n",
    "    params_warmup_steps: int"
   ]
  },
  {
   "cell_type": "code",
   "execution_count": null,
   "metadata": {},
   "outputs": [],
   "source": []
  },
  {
   "cell_type": "code",
   "execution_count": 3,
   "metadata": {},
   "outputs": [
    {
     "name": "stdout",
     "output_type": "stream",
     "text": [
      "[2024-01-25 20:57:05,656: INFO: common: yaml file: config/config.yaml loaded successfully]\n"
     ]
    },
    {
     "name": "stderr",
     "output_type": "stream",
     "text": [
      "/Users/sriram.ranganathan99/ccc/cancer/lib/python3.8/site-packages/tqdm/auto.py:21: TqdmWarning: IProgress not found. Please update jupyter and ipywidgets. See https://ipywidgets.readthedocs.io/en/stable/user_install.html\n",
      "  from .autonotebook import tqdm as notebook_tqdm\n"
     ]
    }
   ],
   "source": [
    "from Sentence_similarity.utils.common import read_pickle, read_yaml\n",
    "from Sentence_similarity.constants import CONFIG_FILE_PATH\n",
    "model_path = read_yaml(CONFIG_FILE_PATH).base_model.local_model_file\n",
    "model = read_pickle(model_path)"
   ]
  },
  {
   "cell_type": "code",
   "execution_count": 10,
   "metadata": {},
   "outputs": [],
   "source": [
    "import pandas as pd\n",
    "from sentence_transformers import InputExample, losses\n",
    "from torch.utils.data import DataLoader\n",
    "import pickle\n",
    "\n",
    "\n",
    "class SentenceSimilarityTrainer:\n",
    "    def __init__(self, model, csv_file_path, batch_size=16):\n",
    "        self.model = model\n",
    "        self.csv_file_path = csv_file_path\n",
    "        self.batch_size = batch_size\n",
    "\n",
    "    def get_training_data(self):\n",
    "        df = pd.read_csv(self.csv_file_path)\n",
    "        examples = []\n",
    "        for _, row in df.iterrows():\n",
    "            examples.append(\n",
    "                InputExample(\n",
    "                    texts=[row[\"Sentence 1\"], row[\"Sentence 2\"]], label=float(row[\"Similarity\"])\n",
    "                )\n",
    "            )\n",
    "        return DataLoader(examples, shuffle=True, batch_size=self.batch_size)\n",
    "\n",
    "    def train_model(self, epochs=10, warmup_steps=100):\n",
    "        train_dataloader = self.get_training_data()\n",
    "        train_loss = losses.CosineSimilarityLoss(self.model)\n",
    "        self.model.fit(\n",
    "            train_objectives=[(train_dataloader, train_loss)],\n",
    "            epochs=epochs,\n",
    "            warmup_steps=warmup_steps,\n",
    "        )\n",
    "        return model"
   ]
  },
  {
   "cell_type": "code",
   "execution_count": 11,
   "metadata": {},
   "outputs": [
    {
     "name": "stdout",
     "output_type": "stream",
     "text": [
      "[2024-01-25 21:01:11,511: INFO: common: yaml file: config/config.yaml loaded successfully]\n"
     ]
    }
   ],
   "source": [
    "trainer = SentenceSimilarityTrainer(model, read_yaml(CONFIG_FILE_PATH).data_ingestion.local_data_file)"
   ]
  },
  {
   "cell_type": "code",
   "execution_count": 12,
   "metadata": {},
   "outputs": [
    {
     "name": "stderr",
     "output_type": "stream",
     "text": [
      "Iteration: 100%|██████████| 1/1 [00:00<00:00,  1.14it/s]\n",
      "Iteration: 100%|██████████| 1/1 [00:00<00:00,  2.12it/s]\n",
      "Iteration: 100%|██████████| 1/1 [00:00<00:00,  2.21it/s]\n",
      "Iteration: 100%|██████████| 1/1 [00:00<00:00,  2.20it/s]\n",
      "Iteration: 100%|██████████| 1/1 [00:00<00:00,  1.79it/s]\n",
      "Epoch: 100%|██████████| 5/5 [00:02<00:00,  1.76it/s]\n"
     ]
    },
    {
     "data": {
      "text/plain": [
       "SentenceTransformer(\n",
       "  (0): Transformer({'max_seq_length': 256, 'do_lower_case': False}) with Transformer model: BertModel \n",
       "  (1): Pooling({'word_embedding_dimension': 384, 'pooling_mode_cls_token': False, 'pooling_mode_mean_tokens': True, 'pooling_mode_max_tokens': False, 'pooling_mode_mean_sqrt_len_tokens': False})\n",
       ")"
      ]
     },
     "execution_count": 12,
     "metadata": {},
     "output_type": "execute_result"
    }
   ],
   "source": [
    "trainer.train_model(epochs=5)"
   ]
  }
 ],
 "metadata": {
  "kernelspec": {
   "display_name": "cancer",
   "language": "python",
   "name": "python3"
  },
  "language_info": {
   "codemirror_mode": {
    "name": "ipython",
    "version": 3
   },
   "file_extension": ".py",
   "mimetype": "text/x-python",
   "name": "python",
   "nbconvert_exporter": "python",
   "pygments_lexer": "ipython3",
   "version": "3.8.5"
  }
 },
 "nbformat": 4,
 "nbformat_minor": 2
}
