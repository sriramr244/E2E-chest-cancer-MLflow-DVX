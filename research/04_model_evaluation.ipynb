{
 "cells": [
  {
   "cell_type": "code",
   "execution_count": 1,
   "metadata": {},
   "outputs": [
    {
     "data": {
      "text/plain": [
       "'/Users/sriram.ranganathan99/ccc/E2E-sentence-similarity-MLflow-DVX/research'"
      ]
     },
     "execution_count": 1,
     "metadata": {},
     "output_type": "execute_result"
    }
   ],
   "source": [
    "import os\n",
    "%pwd"
   ]
  },
  {
   "cell_type": "code",
   "execution_count": 2,
   "metadata": {},
   "outputs": [],
   "source": [
    "os.chdir(\"../\")"
   ]
  },
  {
   "cell_type": "code",
   "execution_count": null,
   "metadata": {},
   "outputs": [],
   "source": [
    "import os\n",
    "os.environ[\"MLFLOW_TRACKING_URI\"]=\"https://dagshub.com/sriramr244/E2E-sentence-similarity-MLflow-DVX.mlflow \"\n",
    "os.environ[\"MLFLOW_TRACKING_USERNAME\"]=\"sriramr244\"\n",
    "os.environ[\"MLFLOW_TRACKING_PASSWORD\"]=\"a24a6cc6fb2a4c49dab0fe93311ed2485fd042b9\""
   ]
  },
  {
   "cell_type": "code",
   "execution_count": null,
   "metadata": {},
   "outputs": [],
   "source": [
    "import pandas as pd\n",
    "from sklearn.metrics.pairwise import cosine_similarity\n",
    "from sentence_transformers import SentenceTransformer\n",
    "model = SentenceTransformer('paraphrase-MiniLM-L12-v2')\n",
    "\n",
    "df = pd.read_csv(\"/Users/sriram.ranganathan99/ccc/E2E-sentence-similarity-MLflow-DVX/benchmark/benchmark.csv\")\n",
    "sentence1 = df[\"Sentence 1\"]\n",
    "sentence2 = df[\"Sentence 2\"]\n",
    "true_similarity = df[\"Similarity\"]"
   ]
  }
 ],
 "metadata": {
  "kernelspec": {
   "display_name": "cancer",
   "language": "python",
   "name": "python3"
  },
  "language_info": {
   "codemirror_mode": {
    "name": "ipython",
    "version": 3
   },
   "file_extension": ".py",
   "mimetype": "text/x-python",
   "name": "python",
   "nbconvert_exporter": "python",
   "pygments_lexer": "ipython3",
   "version": "3.8.5"
  }
 },
 "nbformat": 4,
 "nbformat_minor": 2
}
